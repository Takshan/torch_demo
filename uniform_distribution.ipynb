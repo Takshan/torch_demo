{
 "cells": [
  {
   "cell_type": "code",
   "execution_count": 20,
   "metadata": {},
   "outputs": [],
   "source": [
    "from IPython.display import display, clear_output\n",
    "import math\n",
    "import time"
   ]
  },
  {
   "cell_type": "code",
   "execution_count": 21,
   "metadata": {},
   "outputs": [],
   "source": [
    "import numpy as np"
   ]
  },
  {
   "cell_type": "markdown",
   "metadata": {},
   "source": [
    "### Случайные точки в кубе"
   ]
  },
  {
   "cell_type": "code",
   "execution_count": 105,
   "metadata": {},
   "outputs": [],
   "source": [
    "n = 100\n",
    "k = 10000\n",
    "x = np.random.rand(n, 3)"
   ]
  },
  {
   "cell_type": "markdown",
   "metadata": {},
   "source": [
    "### Расчёт потенциала с помощью цикла"
   ]
  },
  {
   "cell_type": "code",
   "execution_count": 97,
   "metadata": {},
   "outputs": [
    {
     "name": "stdout",
     "output_type": "stream",
     "text": [
      "loss = 10162.245088385518\n",
      "CPU times: user 1min 39s, sys: 0 ns, total: 1min 39s\n",
      "Wall time: 1min 39s\n"
     ]
    }
   ],
   "source": [
    "%%time\n",
    "if n <= 11000:\n",
    "    L_for = 0\n",
    "    L_for_inv = 0\n",
    "    L_for_sq = 0\n",
    "    for p in range(n):\n",
    "        p_distance = 0\n",
    "        for i in range(3):\n",
    "            p_distance += x[p, i]**2\n",
    "        p_distance = math.sqrt(p_distance)\n",
    "        L_for_sq += k * (1 - p_distance)**2  # квадрат расстояния от поверхности сферы, умноженный на константу упругости\n",
    "        for q in range(p + 1, n):\n",
    "            if q != p:\n",
    "                pq_distance = 0\n",
    "                for i in range(3):\n",
    "                    pq_distance += (x[p, i] - x[q, i]) ** 2\n",
    "                pq_distance = math.sqrt(pq_distance)\n",
    "                L_for_inv += 1 / pq_distance  # обратное расстояние между двумя точками\n",
    "    L_for = (L_for_inv + L_for_sq) / n\n",
    "    print('loss =', L_for)"
   ]
  },
  {
   "cell_type": "markdown",
   "metadata": {},
   "source": [
    "### Расчёт потенциала по координатам точек с помощью numpy"
   ]
  },
  {
   "cell_type": "code",
   "execution_count": 98,
   "metadata": {},
   "outputs": [
    {
     "name": "stdout",
     "output_type": "stream",
     "text": [
      "loss = 10162.245088381993\n",
      "CPU times: user 2.37 s, sys: 1.32 s, total: 3.69 s\n",
      "Wall time: 2.82 s\n"
     ]
    }
   ],
   "source": [
    "%%time\n",
    "xxt = x.dot(x.T)\n",
    "pp_sq_dist = np.diag(xxt)\n",
    "p_roll = pp_sq_dist.reshape(1, -1).repeat(n, axis=0)\n",
    "q_roll = pp_sq_dist.reshape(-1, 1).repeat(n, axis=1)\n",
    "pq_sq_dist = p_roll + q_roll - 2 * xxt\n",
    "pq_dist = np.sqrt(pq_sq_dist)\n",
    "pp_dist = np.sqrt(pp_sq_dist)\n",
    "surface_dist_sq = (pp_dist - np.ones(n)) ** 2\n",
    "rec_pq_dist = 1 / (pq_dist + np.eye(n)) - np.eye(n)\n",
    "L_np_rec = rec_pq_dist.sum() / 2\n",
    "L_np_surf = k * surface_dist_sq.sum()\n",
    "L_np = (L_np_rec  + L_np_surf) / n\n",
    "print('loss =', L_np)"
   ]
  },
  {
   "cell_type": "markdown",
   "metadata": {},
   "source": [
    "### Расчёт потенциала по координатам с помощью pytorch"
   ]
  },
  {
   "cell_type": "code",
   "execution_count": 99,
   "metadata": {},
   "outputs": [],
   "source": [
    "import torch"
   ]
  },
  {
   "cell_type": "code",
   "execution_count": 100,
   "metadata": {},
   "outputs": [
    {
     "name": "stdout",
     "output_type": "stream",
     "text": [
      "loss = 10162.245088381951\n",
      "CPU times: user 2.82 s, sys: 2.31 s, total: 5.13 s\n",
      "Wall time: 2.19 s\n"
     ]
    }
   ],
   "source": [
    "%%time\n",
    "pt_x = torch.from_numpy(x)\n",
    "pt_xxt = pt_x.mm(pt_x.transpose(0, 1))\n",
    "pt_pp_sq_dist = pt_xxt.diag()\n",
    "pt_p_roll = pt_pp_sq_dist.repeat(n, 1)\n",
    "pt_q_roll = pt_pp_sq_dist.reshape(-1, 1).repeat(1, n)\n",
    "pt_pq_sq_dist = pt_p_roll + pt_q_roll - 2 * pt_xxt\n",
    "pt_pq_dist = pt_pq_sq_dist.sqrt()\n",
    "pt_pp_dist = pt_pp_sq_dist.sqrt()\n",
    "pt_surface_dist_sq = (pt_pp_dist - torch.ones(n, dtype=torch.float64)) ** 2\n",
    "pt_rec_pq_dist = 1/ (pt_pq_dist + torch.eye(n, dtype=torch.float64)) - torch.eye(n, dtype=torch.float64)\n",
    "L_pt = (pt_rec_pq_dist.sum() / 2 + k * pt_surface_dist_sq.sum()) / n\n",
    "print('loss =', float(L_pt))"
   ]
  },
  {
   "cell_type": "markdown",
   "metadata": {},
   "source": [
    "### Расчёт потенциала по координатам с помощью tensorflow"
   ]
  },
  {
   "cell_type": "code",
   "execution_count": 101,
   "metadata": {},
   "outputs": [],
   "source": [
    "import tensorflow as tf"
   ]
  },
  {
   "cell_type": "code",
   "execution_count": 102,
   "metadata": {},
   "outputs": [],
   "source": [
    "tf_x = tf.placeholder(name='x', dtype=tf.float64)\n",
    "tf_xxt = tf.matmul(tf_x, tf.transpose(tf_x))\n",
    "tf_pp_sq_dist = tf.diag_part(tf_xxt)\n",
    "tf_p_roll = tf.tile(tf.reshape(tf_pp_sq_dist, (1, -1)), (n, 1))\n",
    "tf_q_roll = tf.tile(tf.reshape(tf_pp_sq_dist, (-1, 1)), (1, n))\n",
    "tf_pq_sq_dist = tf_p_roll + tf_q_roll - 2 * tf_xxt\n",
    "tf_pq_dist = tf.sqrt(tf_pq_sq_dist)\n",
    "tf_pp_dist = tf.sqrt(tf_pp_sq_dist)\n",
    "tf_surface_dist_sq = (tf_pp_dist - tf.ones(n, dtype=tf.float64)) ** 2\n",
    "tf_rec_pq_dist = 1 / (tf_pq_dist + tf.eye(n, dtype=tf.float64)) - tf.eye(n, dtype=tf.float64)\n",
    "L_tf = (tf.reduce_sum(tf_rec_pq_dist) / 2 + k * tf.reduce_sum(tf_surface_dist_sq)) / n"
   ]
  },
  {
   "cell_type": "code",
   "execution_count": 103,
   "metadata": {},
   "outputs": [],
   "source": [
    "glob_init = tf.local_variables_initializer()"
   ]
  },
  {
   "cell_type": "code",
   "execution_count": 104,
   "metadata": {},
   "outputs": [
    {
     "name": "stdout",
     "output_type": "stream",
     "text": [
      "10162.245088381947\n",
      "CPU times: user 8.18 s, sys: 6.63 s, total: 14.8 s\n",
      "Wall time: 7.82 s\n"
     ]
    }
   ],
   "source": [
    "%%time\n",
    "with tf.Session() as tf_s:\n",
    "    glob_init.run()\n",
    "    res, = tf_s.run([L_tf], feed_dict={tf_x: x})\n",
    "    print(res)"
   ]
  },
  {
   "cell_type": "code",
   "execution_count": null,
   "metadata": {},
   "outputs": [],
   "source": []
  },
  {
   "cell_type": "markdown",
   "metadata": {},
   "source": [
    "### Рисование сфер"
   ]
  },
  {
   "cell_type": "code",
   "execution_count": 30,
   "metadata": {},
   "outputs": [],
   "source": [
    "import vapory\n",
    "from PIL import Image"
   ]
  },
  {
   "cell_type": "code",
   "execution_count": 111,
   "metadata": {},
   "outputs": [],
   "source": [
    "def create_scene(moment):\n",
    "    angle = 2 * math.pi * moment / 360\n",
    "    r_camera = 7\n",
    "    camera = vapory.Camera('location', [r_camera * math.cos(angle), 1.5, r_camera * math.sin(angle)], 'look_at', [0.5, 0.5, 0.5], 'angle', 30)\n",
    "    light1 = vapory.LightSource([2, 4, -3], 'color', [1, 1, 1], 'shadowless')\n",
    "    light2 = vapory.LightSource([2, 4, 3], 'color', [1, 1, 1], 'shadowless')\n",
    "    plane = vapory.Plane([0, 1, 0], -1, vapory.Pigment('color', [1, 1, 1]))\n",
    "    box = vapory.Box([0, 0, 0], [1, 1, 1], \n",
    "                     vapory.Pigment('Col_Glass_Clear'),\n",
    "                     vapory.Finish('F_Glass9'),\n",
    "                     vapory.Interior('I_Glass1'))\n",
    "    spheres = [vapory.Sphere( [float(r[0]), float(r[1]), float(r[2])], 0.05, vapory.Texture(vapory.Pigment('color', [1, 1, 0]))) for r in x]\n",
    "    return vapory.Scene(camera, objects=[light1, light2, plane, box] + spheres, included=['glass.inc'])"
   ]
  },
  {
   "cell_type": "code",
   "execution_count": 114,
   "metadata": {},
   "outputs": [
    {
     "data": {
      "image/png": "[encoded data removed]",
      "text/plain": [
       "<PIL.PngImagePlugin.PngImageFile image mode=RGB size=200x150 at 0x7FE8C06DC1D0>"
      ]
     },
     "metadata": {},
     "output_type": "display_data"
    }
   ],
   "source": [
    "for t in range(0, 360, 4):    \n",
    "    flnm = 'out_small/sphere_{:03}.png'.format(t // 4)\n",
    "    scene = create_scene(t)\n",
    "    scene.render(flnm, width=200, height=150)    \n",
    "    clear_output()\n",
    "    display(Image.open(flnm))"
   ]
  },
  {
   "cell_type": "code",
   "execution_count": null,
   "metadata": {},
   "outputs": [],
   "source": []
  }
 ],
 "metadata": {
  "kernelspec": {
   "display_name": "povray env",
   "language": "python",
   "name": "env35_00"
  },
  "language_info": {
   "codemirror_mode": {
    "name": "ipython",
    "version": 3
   },
   "file_extension": ".py",
   "mimetype": "text/x-python",
   "name": "python",
   "nbconvert_exporter": "python",
   "pygments_lexer": "ipython3",
   "version": "3.5.2"
  }
 },
 "nbformat": 4,
 "nbformat_minor": 2
}
