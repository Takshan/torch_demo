{
 "cells": [
  {
   "cell_type": "code",
   "execution_count": 2,
   "metadata": {},
   "outputs": [],
   "source": [
    "from IPython.display import display, clear_output\n",
    "import math\n",
    "import time"
   ]
  },
  {
   "cell_type": "code",
   "execution_count": 3,
   "metadata": {},
   "outputs": [],
   "source": [
    "import numpy as np"
   ]
  },
  {
   "cell_type": "markdown",
   "metadata": {},
   "source": [
    "### Случайные точки в кубе"
   ]
  },
  {
   "cell_type": "code",
   "execution_count": null,
   "metadata": {},
   "outputs": [],
   "source": [
    "n = 100\n",
    "k = 10000\n",
    "x = np.random.rand(n, 3)"
   ]
  },
  {
   "cell_type": "markdown",
   "metadata": {},
   "source": [
    "### Расчёт потенциала с помощью цикла"
   ]
  },
  {
   "cell_type": "code",
   "execution_count": null,
   "metadata": {},
   "outputs": [],
   "source": [
    "%%time\n",
    "if n <= 11000:\n",
    "    L_for = 0\n",
    "    L_for_inv = 0\n",
    "    L_for_sq = 0\n",
    "    for p in range(n):\n",
    "        p_distance = 0\n",
    "        for i in range(3):\n",
    "            p_distance += x[p, i]**2\n",
    "        p_distance = math.sqrt(p_distance)\n",
    "        L_for_sq += k * (1 - p_distance)**2  # квадрат расстояния от поверхности сферы, умноженный на константу упругости\n",
    "        for q in range(p + 1, n):\n",
    "            if q != p:\n",
    "                pq_distance = 0\n",
    "                for i in range(3):\n",
    "                    pq_distance += (x[p, i] - x[q, i]) ** 2\n",
    "                pq_distance = math.sqrt(pq_distance)\n",
    "                L_for_inv += 1 / pq_distance  # обратное расстояние между двумя точками\n",
    "    L_for = (L_for_inv + L_for_sq) / n\n",
    "    print('loss =', L_for)"
   ]
  },
  {
   "cell_type": "markdown",
   "metadata": {},
   "source": [
    "### Расчёт потенциала по координатам точек с помощью numpy"
   ]
  },
  {
   "cell_type": "code",
   "execution_count": null,
   "metadata": {},
   "outputs": [],
   "source": [
    "%%time\n",
    "xxt = x.dot(x.T)\n",
    "pp_sq_dist = np.diag(xxt)\n",
    "p_roll = pp_sq_dist.reshape(1, -1).repeat(n, axis=0)\n",
    "q_roll = pp_sq_dist.reshape(-1, 1).repeat(n, axis=1)\n",
    "pq_sq_dist = p_roll + q_roll - 2 * xxt\n",
    "pq_dist = np.sqrt(pq_sq_dist)\n",
    "pp_dist = np.sqrt(pp_sq_dist)\n",
    "surface_dist_sq = (pp_dist - np.ones(n)) ** 2\n",
    "rec_pq_dist = 1 / (pq_dist + np.eye(n)) - np.eye(n)\n",
    "L_np_rec = rec_pq_dist.sum() / 2\n",
    "L_np_surf = k * surface_dist_sq.sum()\n",
    "L_np = (L_np_rec  + L_np_surf) / n\n",
    "print('loss =', L_np)"
   ]
  },
  {
   "cell_type": "markdown",
   "metadata": {},
   "source": [
    "### Расчёт потенциала по координатам с помощью pytorch"
   ]
  },
  {
   "cell_type": "code",
   "execution_count": null,
   "metadata": {},
   "outputs": [],
   "source": [
    "import torch"
   ]
  },
  {
   "cell_type": "code",
   "execution_count": null,
   "metadata": {},
   "outputs": [],
   "source": [
    "%%time\n",
    "pt_x = torch.from_numpy(x)\n",
    "pt_xxt = pt_x.mm(pt_x.transpose(0, 1))\n",
    "pt_pp_sq_dist = pt_xxt.diag()\n",
    "pt_p_roll = pt_pp_sq_dist.repeat(n, 1)\n",
    "pt_q_roll = pt_pp_sq_dist.reshape(-1, 1).repeat(1, n)\n",
    "pt_pq_sq_dist = pt_p_roll + pt_q_roll - 2 * pt_xxt\n",
    "pt_pq_dist = pt_pq_sq_dist.sqrt()\n",
    "pt_pp_dist = pt_pp_sq_dist.sqrt()\n",
    "pt_surface_dist_sq = (pt_pp_dist - torch.ones(n, dtype=torch.float64)) ** 2\n",
    "pt_rec_pq_dist = 1/ (pt_pq_dist + torch.eye(n, dtype=torch.float64)) - torch.eye(n, dtype=torch.float64)\n",
    "L_pt = (pt_rec_pq_dist.sum() / 2 + k * pt_surface_dist_sq.sum()) / n\n",
    "print('loss =', float(L_pt))"
   ]
  },
  {
   "cell_type": "markdown",
   "metadata": {},
   "source": [
    "### Расчёт потенциала по координатам с помощью tensorflow"
   ]
  },
  {
   "cell_type": "code",
   "execution_count": null,
   "metadata": {},
   "outputs": [],
   "source": [
    "import tensorflow as tf"
   ]
  },
  {
   "cell_type": "code",
   "execution_count": null,
   "metadata": {},
   "outputs": [],
   "source": [
    "tf_x = tf.placeholder(name='x', dtype=tf.float64)\n",
    "tf_xxt = tf.matmul(tf_x, tf.transpose(tf_x))\n",
    "tf_pp_sq_dist = tf.diag_part(tf_xxt)\n",
    "tf_p_roll = tf.tile(tf.reshape(tf_pp_sq_dist, (1, -1)), (n, 1))\n",
    "tf_q_roll = tf.tile(tf.reshape(tf_pp_sq_dist, (-1, 1)), (1, n))\n",
    "tf_pq_sq_dist = tf_p_roll + tf_q_roll - 2 * tf_xxt\n",
    "tf_pq_dist = tf.sqrt(tf_pq_sq_dist)\n",
    "tf_pp_dist = tf.sqrt(tf_pp_sq_dist)\n",
    "tf_surface_dist_sq = (tf_pp_dist - tf.ones(n, dtype=tf.float64)) ** 2\n",
    "tf_rec_pq_dist = 1 / (tf_pq_dist + tf.eye(n, dtype=tf.float64)) - tf.eye(n, dtype=tf.float64)\n",
    "L_tf = (tf.reduce_sum(tf_rec_pq_dist) / 2 + k * tf.reduce_sum(tf_surface_dist_sq)) / n"
   ]
  },
  {
   "cell_type": "code",
   "execution_count": null,
   "metadata": {},
   "outputs": [],
   "source": [
    "glob_init = tf.local_variables_initializer()"
   ]
  },
  {
   "cell_type": "code",
   "execution_count": null,
   "metadata": {},
   "outputs": [],
   "source": [
    "%%time\n",
    "with tf.Session() as tf_s:\n",
    "    glob_init.run()\n",
    "    res, = tf_s.run([L_tf], feed_dict={tf_x: x})\n",
    "    print(res)"
   ]
  },
  {
   "cell_type": "code",
   "execution_count": null,
   "metadata": {},
   "outputs": [],
   "source": []
  },
  {
   "cell_type": "markdown",
   "metadata": {},
   "source": [
    "### Рисование сфер"
   ]
  },
  {
   "cell_type": "code",
   "execution_count": null,
   "metadata": {},
   "outputs": [],
   "source": [
    "import vapory\n",
    "from PIL import Image"
   ]
  },
  {
   "cell_type": "code",
   "execution_count": null,
   "metadata": {},
   "outputs": [],
   "source": [
    "def create_scene(moment, X):\n",
    "    angle = 2 * math.pi * moment / 360\n",
    "    r_camera = 7\n",
    "    camera = vapory.Camera('location', [r_camera * math.cos(angle), 1.5, r_camera * math.sin(angle)], 'look_at', [0.5, 0.5, 0.5], 'angle', 30)\n",
    "    light1 = vapory.LightSource([2, 4, -3], 'color', [1, 1, 1], 'shadowless')\n",
    "    light2 = vapory.LightSource([2, 4, 3], 'color', [1, 1, 1], 'shadowless')\n",
    "    plane = vapory.Plane([0, 1, 0], -1, vapory.Pigment('color', [1, 1, 1]))\n",
    "    box = vapory.Box([0, 0, 0], [1, 1, 1], \n",
    "                     vapory.Pigment('Col_Glass_Clear'),\n",
    "                     vapory.Finish('F_Glass9'),\n",
    "                     vapory.Interior('I_Glass1'))\n",
    "    spheres = [vapory.Sphere( [float(r[0]), float(r[1]), float(r[2])], 0.05, vapory.Texture(vapory.Pigment('color', [1, 1, 0]))) for r in X]\n",
    "    return vapory.Scene(camera, objects=[light1, light2, plane, box] + spheres, included=['glass.inc'])"
   ]
  },
  {
   "cell_type": "code",
   "execution_count": null,
   "metadata": {},
   "outputs": [],
   "source": [
    "for t in range(0, 360, 4):    \n",
    "    flnm = 'out_small/sphere_{:03}.png'.format(t // 4)\n",
    "    scene = create_scene(t)\n",
    "    scene.render(flnm, width=200, height=150)    \n",
    "    clear_output()\n",
    "    display(Image.open(flnm))"
   ]
  },
  {
   "cell_type": "markdown",
   "metadata": {},
   "source": [
    "### Равномерное распределение с помощью pytorch"
   ]
  },
  {
   "cell_type": "code",
   "execution_count": 11,
   "metadata": {},
   "outputs": [],
   "source": [
    "n = 5\n",
    "k = 1000\n",
    "import torch\n",
    "torch_coords_np = np.random.rand(n, 3)"
   ]
  },
  {
   "cell_type": "code",
   "execution_count": 12,
   "metadata": {},
   "outputs": [],
   "source": [
    "torch_coords_tensor = torch.from_numpy(torch_coords_np)"
   ]
  },
  {
   "cell_type": "code",
   "execution_count": 13,
   "metadata": {},
   "outputs": [],
   "source": [
    "pt_X = torch.nn.Parameter(torch_coords_tensor)"
   ]
  },
  {
   "cell_type": "code",
   "execution_count": 20,
   "metadata": {},
   "outputs": [],
   "source": [
    "pt_xxt = pt_X.mm(pt_X.transpose(0, 1))\n",
    "pt_pp_sq_dist = pt_xxt.diag()\n",
    "pt_p_roll = pt_pp_sq_dist.repeat(n, 1)\n",
    "pt_q_roll = pt_pp_sq_dist.reshape(-1, 1).repeat(1, n)\n",
    "pt_pq_sq_dist = pt_p_roll + pt_q_roll - 2 * pt_xxt\n",
    "pt_pq_dist = pt_pq_sq_dist.sqrt()\n",
    "pt_pp_dist = pt_pp_sq_dist.sqrt()\n",
    "pt_surface_dist_sq = (pt_pp_dist - torch.ones(n, dtype=torch.float64)) ** 2\n",
    "pt_rec_pq_dist = 1 / (pt_pq_dist + torch.eye(n, dtype=torch.float64)) - torch.eye(n, dtype=torch.float64)\n",
    "pt_ans_00 = pt_rec_pq_dist.sum()\n",
    "pt_ans_01 = k * pt_surface_dist_sq.sum()\n",
    "L_pt = (pt_ans_00 / 2 + pt_ans_01) / n"
   ]
  },
  {
   "cell_type": "code",
   "execution_count": 15,
   "metadata": {},
   "outputs": [
    {
     "data": {
      "text/plain": [
       "(tensor(36.7635, dtype=torch.float64, grad_fn=<SumBackward0>),\n",
       " tensor(536.0653, dtype=torch.float64, grad_fn=<MulBackward>))"
      ]
     },
     "execution_count": 15,
     "metadata": {},
     "output_type": "execute_result"
    }
   ],
   "source": [
    "pt_ans_00, pt_ans_01"
   ]
  },
  {
   "cell_type": "code",
   "execution_count": null,
   "metadata": {},
   "outputs": [],
   "source": []
  },
  {
   "cell_type": "code",
   "execution_count": 9,
   "metadata": {},
   "outputs": [],
   "source": [
    "pt_ans_00.backward()"
   ]
  },
  {
   "cell_type": "code",
   "execution_count": 10,
   "metadata": {},
   "outputs": [
    {
     "data": {
      "text/plain": [
       "tensor([[nan, nan, nan],\n",
       "        [nan, nan, nan],\n",
       "        [nan, nan, nan],\n",
       "        [nan, nan, nan],\n",
       "        [nan, nan, nan]], dtype=torch.float64)"
      ]
     },
     "execution_count": 10,
     "metadata": {},
     "output_type": "execute_result"
    }
   ],
   "source": [
    "pt_X.grad"
   ]
  },
  {
   "cell_type": "code",
   "execution_count": 16,
   "metadata": {},
   "outputs": [],
   "source": [
    "d = pt_pq_dist.sum()"
   ]
  },
  {
   "cell_type": "code",
   "execution_count": 17,
   "metadata": {},
   "outputs": [
    {
     "data": {
      "text/plain": [
       "tensor(12.8093, dtype=torch.float64, grad_fn=<SumBackward0>)"
      ]
     },
     "execution_count": 17,
     "metadata": {},
     "output_type": "execute_result"
    }
   ],
   "source": [
    "d"
   ]
  },
  {
   "cell_type": "code",
   "execution_count": 18,
   "metadata": {},
   "outputs": [],
   "source": [
    "d.backward()"
   ]
  },
  {
   "cell_type": "code",
   "execution_count": 19,
   "metadata": {},
   "outputs": [
    {
     "data": {
      "text/plain": [
       "Parameter containing:\n",
       "tensor([[0.3637, 0.6737, 0.9002],\n",
       "        [0.4248, 0.9136, 0.9452],\n",
       "        [0.3277, 0.2016, 0.1203],\n",
       "        [0.6250, 0.7398, 0.2872],\n",
       "        [0.6958, 0.5170, 0.5625]], dtype=torch.float64, requires_grad=True)"
      ]
     },
     "execution_count": 19,
     "metadata": {},
     "output_type": "execute_result"
    }
   ],
   "source": [
    "pt_X"
   ]
  },
  {
   "cell_type": "code",
   "execution_count": null,
   "metadata": {},
   "outputs": [],
   "source": []
  }
 ],
 "metadata": {
  "kernelspec": {
   "display_name": "povray env",
   "language": "python",
   "name": "env35_00"
  },
  "language_info": {
   "codemirror_mode": {
    "name": "ipython",
    "version": 3
   },
   "file_extension": ".py",
   "mimetype": "text/x-python",
   "name": "python",
   "nbconvert_exporter": "python",
   "pygments_lexer": "ipython3",
   "version": "3.5.2"
  }
 },
 "nbformat": 4,
 "nbformat_minor": 2
}
