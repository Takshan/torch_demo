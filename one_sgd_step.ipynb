{
 "cells": [
  {
   "cell_type": "code",
   "execution_count": 26,
   "metadata": {},
   "outputs": [],
   "source": [
    "import torch"
   ]
  },
  {
   "cell_type": "code",
   "execution_count": 27,
   "metadata": {},
   "outputs": [],
   "source": [
    "a = torch.tensor([2, 3, 4], dtype=torch.float32, requires_grad=False)  # we want to approximate this vector"
   ]
  },
  {
   "cell_type": "code",
   "execution_count": 28,
   "metadata": {},
   "outputs": [],
   "source": [
    "x = torch.nn.Parameter(torch.tensor([0, 0, 0], dtype=torch.float32, requires_grad=True))  # 0, 0, 0 - initial guess\n",
    "# class Parameter allows to update x value on optimizer step() call"
   ]
  },
  {
   "cell_type": "code",
   "execution_count": 32,
   "metadata": {},
   "outputs": [],
   "source": [
    "opt = torch.optim.SGD([x], lr=0.2)  # stochastic gradient optimizer with learning rate"
   ]
  },
  {
   "cell_type": "code",
   "execution_count": 33,
   "metadata": {},
   "outputs": [],
   "source": [
    "mse_loss = torch.nn.MSELoss()  # mse loss"
   ]
  },
  {
   "cell_type": "code",
   "execution_count": 34,
   "metadata": {},
   "outputs": [
    {
     "name": "stdout",
     "output_type": "stream",
     "text": [
      "0.0387452132999897 tensor([ 1.8903,  2.8354,  3.7805])\n",
      "0.029101988300681114 tensor([ 1.9049,  2.8573,  3.8098])\n",
      "0.02185881696641445 tensor([ 1.9176,  2.8764,  3.8352])\n",
      "0.016418421640992165 tensor([ 1.9286,  2.8928,  3.8571])\n",
      "0.0123320696875453 tensor([ 1.9381,  2.9071,  3.8762])\n",
      "0.009262762032449245 tensor([ 1.9463,  2.9195,  3.8927])\n",
      "0.006957370322197676 tensor([ 1.9535,  2.9302,  3.9070])\n",
      "0.005225757136940956 tensor([ 1.9597,  2.9395,  3.9194])\n",
      "0.003925125580281019 tensor([ 1.9651,  2.9476,  3.9301])\n",
      "0.0029482089448720217 tensor([ 1.9697,  2.9546,  3.9395])\n",
      "0.0022144296672195196 tensor([ 1.9738,  2.9606,  3.9475])\n",
      "0.0016632844926789403 tensor([ 1.9773,  2.9659,  3.9545])\n",
      "0.0012493119575083256 tensor([ 1.9803,  2.9704,  3.9606])\n",
      "0.0009383680881001055 tensor([ 1.9829,  2.9744,  3.9658])\n",
      "0.0007048163679428399 tensor([ 1.9852,  2.9778,  3.9704])\n",
      "0.000529395358171314 tensor([ 1.9872,  2.9808,  3.9743])\n",
      "0.00039763524546287954 tensor([ 1.9889,  2.9833,  3.9778])\n",
      "0.00029866924160160124 tensor([ 1.9904,  2.9855,  3.9807])\n",
      "0.00022433338745031506 tensor([ 1.9916,  2.9875,  3.9833])\n",
      "0.00016850045358296484 tensor([ 1.9928,  2.9891,  3.9855])\n",
      "0.00012656309991143644 tensor([ 1.9937,  2.9906,  3.9875])\n",
      "9.506291098659858e-05 tensor([ 1.9946,  2.9918,  3.9891])\n",
      "7.140303932828829e-05 tensor([ 1.9953,  2.9929,  3.9906])\n",
      "5.363066520658322e-05 tensor([ 1.9959,  2.9939,  3.9918])\n",
      "4.028230978292413e-05 tensor([ 1.9965,  2.9947,  3.9929])\n",
      "3.0255554520408623e-05 tensor([ 1.9969,  2.9954,  3.9939])\n",
      "2.2724794689565897e-05 tensor([ 1.9973,  2.9960,  3.9947])\n",
      "1.70688745129155e-05 tensor([ 1.9977,  2.9965,  3.9954])\n",
      "1.2820378287869971e-05 tensor([ 1.9980,  2.9970,  3.9960])\n",
      "9.6296971605625e-06 tensor([ 1.9983,  2.9974,  3.9965])\n",
      "7.23255061529926e-06 tensor([ 1.9985,  2.9978,  3.9970])\n",
      "5.432480975287035e-06 tensor([ 1.9987,  2.9981,  3.9974])\n",
      "4.0802797229844145e-06 tensor([ 1.9989,  2.9983,  3.9977])\n",
      "3.0648925530840643e-06 tensor([ 1.9990,  2.9985,  3.9980])\n",
      "2.301842187080183e-06 tensor([ 1.9992,  2.9987,  3.9983])\n",
      "1.7287375158048235e-06 tensor([ 1.9993,  2.9989,  3.9985])\n",
      "1.2985556168132462e-06 tensor([ 1.9994,  2.9990,  3.9987])\n",
      "9.753157428349368e-07 tensor([ 1.9994,  2.9992,  3.9989])\n",
      "7.324596822400053e-07 tensor([ 1.9995,  2.9993,  3.9990])\n",
      "5.500928637047764e-07 tensor([ 1.9996,  2.9994,  3.9992])\n"
     ]
    }
   ],
   "source": [
    "for _ in range(40):\n",
    "    opt.zero_grad()  # in order to avoid accumulation of gradient we set gradient to zero on each step\n",
    "    t = mse_loss(x, a)  # we want to minimize euclidian distance between x and a\n",
    "    t.backward()  # back propagation of gradient from loss to x\n",
    "    opt.step()  # one step of optimization\n",
    "    print(float(t), x.data)  # value after one step of SGD process"
   ]
  },
  {
   "cell_type": "code",
   "execution_count": 23,
   "metadata": {},
   "outputs": [
    {
     "data": {
      "text/plain": [
       "tensor([-1.1615, -1.7422, -2.3230])"
      ]
     },
     "execution_count": 23,
     "metadata": {},
     "output_type": "execute_result"
    }
   ],
   "source": [
    "x.grad  # current gradient value"
   ]
  },
  {
   "cell_type": "code",
   "execution_count": 38,
   "metadata": {},
   "outputs": [
    {
     "data": {
      "text/plain": [
       "0"
      ]
     },
     "execution_count": 38,
     "metadata": {},
     "output_type": "execute_result"
    }
   ],
   "source": [
    "torch.cuda.current_device()  # code of current device"
   ]
  },
  {
   "cell_type": "code",
   "execution_count": 39,
   "metadata": {},
   "outputs": [
    {
     "data": {
      "text/plain": [
       "<torch.cuda.device at 0x7f40b2e91630>"
      ]
     },
     "execution_count": 39,
     "metadata": {},
     "output_type": "execute_result"
    }
   ],
   "source": [
    "torch.cuda.device(0)  # object of current device"
   ]
  },
  {
   "cell_type": "code",
   "execution_count": 40,
   "metadata": {},
   "outputs": [
    {
     "data": {
      "text/plain": [
       "'GeForce GTX 860M'"
      ]
     },
     "execution_count": 40,
     "metadata": {},
     "output_type": "execute_result"
    }
   ],
   "source": [
    "torch.cuda.get_device_name(0)  # current device name"
   ]
  },
  {
   "cell_type": "code",
   "execution_count": null,
   "metadata": {},
   "outputs": [],
   "source": []
  }
 ],
 "metadata": {
  "kernelspec": {
   "display_name": "Python 3",
   "language": "python",
   "name": "python3"
  },
  "language_info": {
   "codemirror_mode": {
    "name": "ipython",
    "version": 3
   },
   "file_extension": ".py",
   "mimetype": "text/x-python",
   "name": "python",
   "nbconvert_exporter": "python",
   "pygments_lexer": "ipython3",
   "version": "3.5.2"
  }
 },
 "nbformat": 4,
 "nbformat_minor": 2
}
